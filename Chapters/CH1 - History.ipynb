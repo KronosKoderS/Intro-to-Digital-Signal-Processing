{
 "cells": [
  {
   "cell_type": "markdown",
   "metadata": {},
   "source": [
    "#Overview\n",
    "\n",
    "##Applications of DSP\n",
    "\n",
    "Digital Signal Processing (DSP) has a wide breadth of applications, each that can be its own field of study.  No longer can you say that you do \"just\" DSP:\n",
    "\n",
    "<img src=\"images\\one_does_not_do_dsp.jpg\">\n",
    "\n",
    "Heres's a brief list of applications related to DSP.  \n",
    "\n",
    "* Speech processing\n",
    "* MP3, CD, DVD\n",
    "* Music Analysis/Processing\n",
    "* Biomedical (EKG, EEG)\n",
    "* Sonar, radar, seismology\n",
    "* Data compression\n",
    "* Spectrum analyzers\n",
    "* HDTV, 4kTV\n",
    "* Digital Teleconferencing\n",
    "* Medical imaging\n",
    "* Homeland security, military\n",
    "* MIMO wireless communications (smart antenna)\n",
    "* Financial statistical DSP\n",
    "\n",
    "##Brief History\n",
    "\n",
    "##Typical DSP System\n",
    "\n",
    "##\n",
    "\n",
    "\n"
   ]
  },
  {
   "cell_type": "code",
   "execution_count": null,
   "metadata": {
    "collapsed": true
   },
   "outputs": [],
   "source": []
  }
 ],
 "metadata": {
  "kernelspec": {
   "display_name": "Python 3",
   "language": "python",
   "name": "python3"
  },
  "language_info": {
   "codemirror_mode": {
    "name": "ipython",
    "version": 3
   },
   "file_extension": ".py",
   "mimetype": "text/x-python",
   "name": "python",
   "nbconvert_exporter": "python",
   "pygments_lexer": "ipython3",
   "version": "3.4.1"
  }
 },
 "nbformat": 4,
 "nbformat_minor": 0
}
