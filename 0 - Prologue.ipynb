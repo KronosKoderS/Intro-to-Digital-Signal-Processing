{
 "cells": [
  {
   "cell_type": "markdown",
   "metadata": {},
   "source": [
    "#Docendo discimus\n",
    "\n",
    "> by teaching, we learn\n",
    ">\n",
    "> ~ [Seneca the Younger](http://en.wikipedia.org/wiki/Docendo_discimus)\n",
    "\n",
    "I've found that the best way for someone to truly learn something is through teaching it.  The idea of this collection of iPython notebooks is to help myself learn what I limitedly know in hopes of getting a better understanding.  I just hope that others can learn from this adventure that I take.\n",
    "\n",
    "My history with DSP is limited.  I've only taken one class and therefore AM NOT an expert by no means.  That's why I'm making this an open source public project.  Feel free to contribute if you so desire.\n",
    "\n",
    "This collection of notebooks will be based on Oppenheim's [Discrete-Time Signal Processing](http://www.amazon.com/Discrete-Time-Signal-Processing-Edition-Prentice/dp/0131988425) text book and the University of Arizona's ECE 529 course as taught by Professor Jeffery Rodriquez.  Note that I'm summarizing their notes and examples and more than likely will get them wrong at first.  If there are any errors found within here, it does not necessarily reflect errors on thei\n",
    "\n",
    "##Index\n",
    "This collection of notebooks is devided into the follwing chapters (note I'll be updating as I move along):\n"
   ]
  }
 ],
 "metadata": {
  "kernelspec": {
   "display_name": "Python 3",
   "language": "python",
   "name": "python3"
  },
  "language_info": {
   "codemirror_mode": {
    "name": "ipython",
    "version": 3
   },
   "file_extension": ".py",
   "mimetype": "text/x-python",
   "name": "python",
   "nbconvert_exporter": "python",
   "pygments_lexer": "ipython3",
   "version": "3.4.1"
  }
 },
 "nbformat": 4,
 "nbformat_minor": 0
}
